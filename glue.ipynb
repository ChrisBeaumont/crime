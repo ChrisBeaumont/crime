{
 "metadata": {
  "name": "",
  "signature": "sha256:c053c3fa5cc81d9017cec0cbd7f4e7acca6086b8d86fe9a2c2d2e1479e9c779f"
 },
 "nbformat": 3,
 "nbformat_minor": 0,
 "worksheets": [
  {
   "cells": [
    {
     "cell_type": "heading",
     "level": 1,
     "metadata": {},
     "source": [
      "Exploring Crime Data With Glue"
     ]
    },
    {
     "cell_type": "markdown",
     "metadata": {},
     "source": [
      "[Glue](http://glueviz.org) is a project I've been building to make it easier to interactively visualize related datasets in Python. The goal of the project is to create an interactive, scriptable user interface on top of Matplotlib, to visualize and drill down into multidimensional datasets."
     ]
    },
    {
     "cell_type": "code",
     "collapsed": false,
     "input": [
      "from glue import qglue\n",
      "import pandas as pd\n",
      "\n",
      "# set up IPython/Qt integration\n",
      "%gui qt4 "
     ],
     "language": "python",
     "metadata": {},
     "outputs": [
      {
       "output_type": "stream",
       "stream": "stderr",
       "text": [
        "/Users/beaumont/anaconda/lib/python2.7/site-packages/pandas/io/excel.py:626: UserWarning: Installed openpyxl is not supported at this time. Use >=1.6.1 and <2.0.0.\n",
        "  .format(openpyxl_compat.start_ver, openpyxl_compat.stop_ver))\n"
       ]
      }
     ],
     "prompt_number": 1
    },
    {
     "cell_type": "code",
     "collapsed": false,
     "input": [
      "city = pd.read_csv('city_crime.csv')\n",
      "states = pd.read_csv('state_crime.csv')"
     ],
     "language": "python",
     "metadata": {},
     "outputs": [],
     "prompt_number": 2
    },
    {
     "cell_type": "code",
     "collapsed": false,
     "input": [
      "app = qglue(city=city, states=states)"
     ],
     "language": "python",
     "metadata": {},
     "outputs": [
      {
       "metadata": {},
       "output_type": "pyout",
       "prompt_number": 3,
       "text": [
        "DataCollection (2 data sets)\n",
        "\t  0: states\n",
        "\t  1: city"
       ]
      }
     ],
     "prompt_number": 3
    },
    {
     "cell_type": "code",
     "collapsed": false,
     "input": [
      "states[states.Murder > 30].head()"
     ],
     "language": "python",
     "metadata": {},
     "outputs": [
      {
       "html": [
        "<div style=\"max-height:1000px;max-width:1500px;overflow:auto;\">\n",
        "<table border=\"1\" class=\"dataframe\">\n",
        "  <thead>\n",
        "    <tr style=\"text-align: right;\">\n",
        "      <th></th>\n",
        "      <th>Year</th>\n",
        "      <th>Population</th>\n",
        "      <th>Violent Crime rate</th>\n",
        "      <th>Murder</th>\n",
        "      <th>Rape</th>\n",
        "      <th>Robbery</th>\n",
        "      <th>Assault</th>\n",
        "      <th>Property</th>\n",
        "      <th>Burglary</th>\n",
        "      <th>Larceny</th>\n",
        "      <th>Vehicular</th>\n",
        "      <th>State</th>\n",
        "    </tr>\n",
        "  </thead>\n",
        "  <tbody>\n",
        "    <tr>\n",
        "      <th>433</th>\n",
        "      <td> 1969</td>\n",
        "      <td> 798000</td>\n",
        "      <td> 2135.1</td>\n",
        "      <td> 36.0</td>\n",
        "      <td> 97.2</td>\n",
        "      <td> 1549.6</td>\n",
        "      <td> 452.3</td>\n",
        "      <td> 8270.9</td>\n",
        "      <td> 2869.9</td>\n",
        "      <td> 3998.7</td>\n",
        "      <td> 1402.3</td>\n",
        "      <td> District of Columbia</td>\n",
        "    </tr>\n",
        "    <tr>\n",
        "      <th>435</th>\n",
        "      <td> 1971</td>\n",
        "      <td> 741000</td>\n",
        "      <td> 2170.6</td>\n",
        "      <td> 37.1</td>\n",
        "      <td> 83.0</td>\n",
        "      <td> 1514.4</td>\n",
        "      <td> 536.0</td>\n",
        "      <td> 7345.7</td>\n",
        "      <td> 2539.5</td>\n",
        "      <td> 3627.8</td>\n",
        "      <td> 1178.4</td>\n",
        "      <td> District of Columbia</td>\n",
        "    </tr>\n",
        "    <tr>\n",
        "      <th>436</th>\n",
        "      <td> 1972</td>\n",
        "      <td> 748000</td>\n",
        "      <td> 1685.4</td>\n",
        "      <td> 32.8</td>\n",
        "      <td> 95.5</td>\n",
        "      <td> 1036.2</td>\n",
        "      <td> 521.0</td>\n",
        "      <td> 6179.8</td>\n",
        "      <td> 1711.4</td>\n",
        "      <td> 3690.2</td>\n",
        "      <td>  778.2</td>\n",
        "      <td> District of Columbia</td>\n",
        "    </tr>\n",
        "    <tr>\n",
        "      <th>437</th>\n",
        "      <td> 1973</td>\n",
        "      <td> 746000</td>\n",
        "      <td> 1558.4</td>\n",
        "      <td> 35.9</td>\n",
        "      <td> 79.9</td>\n",
        "      <td>  961.3</td>\n",
        "      <td> 481.4</td>\n",
        "      <td> 6339.8</td>\n",
        "      <td> 1581.9</td>\n",
        "      <td> 4126.1</td>\n",
        "      <td>  631.8</td>\n",
        "      <td> District of Columbia</td>\n",
        "    </tr>\n",
        "    <tr>\n",
        "      <th>438</th>\n",
        "      <td> 1974</td>\n",
        "      <td> 723000</td>\n",
        "      <td> 1603.0</td>\n",
        "      <td> 38.3</td>\n",
        "      <td> 77.6</td>\n",
        "      <td> 1098.3</td>\n",
        "      <td> 388.8</td>\n",
        "      <td> 5954.9</td>\n",
        "      <td> 1953.8</td>\n",
        "      <td> 3458.4</td>\n",
        "      <td>  542.7</td>\n",
        "      <td> District of Columbia</td>\n",
        "    </tr>\n",
        "  </tbody>\n",
        "</table>\n",
        "</div>"
       ],
       "metadata": {},
       "output_type": "pyout",
       "prompt_number": 15,
       "text": [
        "     Year  Population  Violent Crime rate  Murder  Rape  Robbery  Assault  \\\n",
        "433  1969      798000              2135.1    36.0  97.2   1549.6    452.3   \n",
        "435  1971      741000              2170.6    37.1  83.0   1514.4    536.0   \n",
        "436  1972      748000              1685.4    32.8  95.5   1036.2    521.0   \n",
        "437  1973      746000              1558.4    35.9  79.9    961.3    481.4   \n",
        "438  1974      723000              1603.0    38.3  77.6   1098.3    388.8   \n",
        "\n",
        "     Property  Burglary  Larceny  Vehicular                 State  \n",
        "433    8270.9    2869.9   3998.7     1402.3  District of Columbia  \n",
        "435    7345.7    2539.5   3627.8     1178.4  District of Columbia  \n",
        "436    6179.8    1711.4   3690.2      778.2  District of Columbia  \n",
        "437    6339.8    1581.9   4126.1      631.8  District of Columbia  \n",
        "438    5954.9    1953.8   3458.4      542.7  District of Columbia  "
       ]
      }
     ],
     "prompt_number": 15
    },
    {
     "cell_type": "code",
     "collapsed": false,
     "input": [],
     "language": "python",
     "metadata": {},
     "outputs": []
    }
   ],
   "metadata": {}
  }
 ]
}